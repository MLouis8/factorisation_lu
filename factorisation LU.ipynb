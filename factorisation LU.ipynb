{
 "cells": [
  {
   "cell_type": "markdown",
   "id": "b9f22cd6",
   "metadata": {},
   "source": [
    "# Algèbre linéaire : Factorisations "
   ]
  },
  {
   "cell_type": "code",
   "execution_count": 1,
   "id": "0beac6ec",
   "metadata": {},
   "outputs": [],
   "source": [
    "import numpy as np\n",
    "from display import display_matrix_lateX, display_matrix_pyplot"
   ]
  },
  {
   "cell_type": "markdown",
   "id": "d116d7bf",
   "metadata": {},
   "source": [
    "##  I. Factorisation LU"
   ]
  },
  {
   "cell_type": "code",
   "execution_count": 2,
   "id": "02bc95d5",
   "metadata": {},
   "outputs": [],
   "source": [
    "def factorisation_lu(A):\n",
    "    L = np.diag(np.ones((A.shape[0])))\n",
    "    for id_act, line_act in enumerate(A):\n",
    "        L1 = np.diag(np.ones((A.shape[0])))\n",
    "        if A[id_act, id_act] == 0:\n",
    "            return\n",
    "        diag_elem = A[id_act, id_act]\n",
    "        for ind, line in enumerate(A[id_act+1:]):\n",
    "            real_id = ind+id_act+1\n",
    "            temp_elem = A[real_id, id_act]\n",
    "            factor = temp_elem/diag_elem\n",
    "            A[real_id] = A[real_id] - factor * A[id_act]\n",
    "            L1[real_id, id_act] += factor\n",
    "        L = np.matmul(L, L1)\n",
    "    U = A\n",
    "    return L, U"
   ]
  },
  {
   "cell_type": "code",
   "execution_count": 3,
   "id": "14b9feb8",
   "metadata": {},
   "outputs": [],
   "source": [
    "# un exemple de matrice pour tester\n",
    "\n",
    "I_3 = np.diag([1, 1, 1])\n",
    "A_1 = np.array([[2,0,2,0],[-2,1,-2,1],[2,-1,5,0],[-2,1,-5,-1]])\n",
    "L_1 = np.array([[1, 0, 0, 0], [-1, 1, 0, 0], [1, -1, 1, 0], [-1, 1, -1, 1]])\n",
    "U_1 = np.array([[2, 0, 2, 0], [0, 1, 0, 1], [0, 0, 3, 1], [0, 0, 0, -1]])"
   ]
  },
  {
   "cell_type": "markdown",
   "id": "238fc1b0",
   "metadata": {},
   "source": [
    "$A = \\begin{pmatrix}\n",
    "2 & 0 & 2 & 0 \\\\\n",
    "-2 & 1 & -2 & 1 \\\\\n",
    "2 & -1 & 5 & 0 \\\\\n",
    "-2 & 1 & -5 & -1 \\\\\n",
    "\\end{pmatrix}$\n",
    "$ = \\begin{pmatrix}\n",
    "1 & 0 & 0 & 0 \\\\\n",
    "-1 & 1 & 0 & 0 \\\\\n",
    "1 & -1 & 1 & 0 \\\\\n",
    "-1 & 1 & -1 & 1 \\\\\n",
    "\\end{pmatrix}$\n",
    "$\\begin{pmatrix}\n",
    "2 & 0 & 2 & 0 \\\\\n",
    "0 & 1 & 0 & 1 \\\\\n",
    "0 & 0 & 3 & 1 \\\\\n",
    "0 & 0 & 0 & -1 \\\\\n",
    "\\end{pmatrix}$"
   ]
  },
  {
   "cell_type": "code",
   "execution_count": 4,
   "id": "bfb87403",
   "metadata": {
    "scrolled": false
   },
   "outputs": [],
   "source": [
    "L, U = factorisation_lu(A_1.copy())\n",
    "assert (np.matmul(L_1, U_1) == A_1).all()\n",
    "assert (np.matmul(L, U) == A_1).all()\n",
    "assert (U == U_1).all()\n",
    "assert (L_1 == L).all()"
   ]
  },
  {
   "cell_type": "code",
   "execution_count": 5,
   "id": "ef92d262",
   "metadata": {
    "scrolled": true
   },
   "outputs": [
    {
     "name": "stdout",
     "output_type": "stream",
     "text": [
      "$\\begin{pmatrix}\n",
      "1 & 0 & 0 & 0 \\\\\n",
      "-1 & 1 & 0 & 0 \\\\\n",
      "1 & -1 & 1 & 0 \\\\\n",
      "-1 & 1 & -1 & 1 \\\\\n",
      "\\end{pmatrix}$\n",
      "$\\begin{pmatrix}\n",
      "2 & 0 & 2 & 0 \\\\\n",
      "0 & 1 & 0 & 1 \\\\\n",
      "0 & 0 & 3 & 1 \\\\\n",
      "0 & 0 & 0 & -1 \\\\\n",
      "\\end{pmatrix}$\n"
     ]
    }
   ],
   "source": [
    "display_matrix_lateX(L)\n",
    "display_matrix_lateX(U)"
   ]
  },
  {
   "cell_type": "markdown",
   "id": "a18d6012",
   "metadata": {},
   "source": [
    "$\\begin{pmatrix}\n",
    "1 & 0 & 0 & 0 \\\\\n",
    "-1 & 1 & 0 & 0 \\\\\n",
    "1 & -1 & 1 & 0 \\\\\n",
    "-1 & 1 & -1 & 1 \\\\\n",
    "\\end{pmatrix}$\n",
    "$\\begin{pmatrix}\n",
    "2 & 0 & 2 & 0 \\\\\n",
    "0 & 1 & 0 & 1 \\\\\n",
    "0 & 0 & 3 & 1 \\\\\n",
    "0 & 0 & 0 & -1 \\\\\n",
    "\\end{pmatrix}$"
   ]
  }
 ],
 "metadata": {
  "kernelspec": {
   "display_name": "Python 3 (ipykernel)",
   "language": "python",
   "name": "python3"
  },
  "language_info": {
   "codemirror_mode": {
    "name": "ipython",
    "version": 3
   },
   "file_extension": ".py",
   "mimetype": "text/x-python",
   "name": "python",
   "nbconvert_exporter": "python",
   "pygments_lexer": "ipython3",
   "version": "3.11.0"
  }
 },
 "nbformat": 4,
 "nbformat_minor": 5
}
