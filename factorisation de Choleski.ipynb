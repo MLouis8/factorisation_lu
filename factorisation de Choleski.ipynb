{
 "cells": [
  {
   "cell_type": "markdown",
   "id": "248ed5af",
   "metadata": {},
   "source": [
    "# Algèbre linéaire : Factorisations"
   ]
  },
  {
   "cell_type": "code",
   "execution_count": 1,
   "id": "9a5f7424",
   "metadata": {},
   "outputs": [],
   "source": [
    "import numpy as np\n",
    "from display import display_matrix_lateX, display_matrix_pyplot\n",
    "from factorisations import factorisation_lu"
   ]
  },
  {
   "cell_type": "markdown",
   "id": "77fc0476",
   "metadata": {},
   "source": [
    "## II. Factorisation de Choleski"
   ]
  },
  {
   "cell_type": "code",
   "execution_count": 2,
   "id": "21b7de16",
   "metadata": {},
   "outputs": [],
   "source": [
    "# matrices de test\n",
    "A = np.array([[2, -1, 0],[-1, 2, 1], [0, 1, 3]])\n",
    "L, U = factorisation_lu(A)"
   ]
  },
  {
   "cell_type": "code",
   "execution_count": 3,
   "id": "a0ca5b0c",
   "metadata": {},
   "outputs": [
    {
     "name": "stdout",
     "output_type": "stream",
     "text": [
      "$\\begin{pmatrix}\n",
      "1 & 0 & 0 \\\\\n",
      "-0.5 & 1 & 0 \\\\\n",
      "0 & 1 & 1 \\\\\n",
      "\\end{pmatrix}$\n",
      "$\\begin{pmatrix}\n",
      "2 & -1 & 0 \\\\\n",
      "0 & 1 & 1 \\\\\n",
      "0 & 0 & 2 \\\\\n",
      "\\end{pmatrix}$\n"
     ]
    }
   ],
   "source": [
    "display_matrix_lateX(L)\n",
    "display_matrix_lateX(U)"
   ]
  },
  {
   "cell_type": "markdown",
   "id": "0f5d6a3c",
   "metadata": {},
   "source": [
    "$\\begin{pmatrix}\n",
    "1 & 0 & 0 \\\\\n",
    "-0.5 & 1 & 0 \\\\\n",
    "0 & 1 & 1 \\\\\n",
    "\\end{pmatrix}$\n",
    "$\\begin{pmatrix}\n",
    "2 & -1 & 0 \\\\\n",
    "0 & 1 & 1 \\\\\n",
    "0 & 0 & 2 \\\\\n",
    "\\end{pmatrix}$"
   ]
  },
  {
   "cell_type": "code",
   "execution_count": 4,
   "id": "f9303339",
   "metadata": {},
   "outputs": [
    {
     "data": {
      "text/plain": [
       "array([[ 1. ,  0. ,  0. ],\n",
       "       [-0.5,  1. ,  0. ],\n",
       "       [ 0. ,  1. ,  1. ]])"
      ]
     },
     "execution_count": 4,
     "metadata": {},
     "output_type": "execute_result"
    }
   ],
   "source": [
    "L"
   ]
  },
  {
   "cell_type": "code",
   "execution_count": null,
   "id": "21b18bc8",
   "metadata": {},
   "outputs": [],
   "source": []
  }
 ],
 "metadata": {
  "kernelspec": {
   "display_name": "Python 3 (ipykernel)",
   "language": "python",
   "name": "python3"
  },
  "language_info": {
   "codemirror_mode": {
    "name": "ipython",
    "version": 3
   },
   "file_extension": ".py",
   "mimetype": "text/x-python",
   "name": "python",
   "nbconvert_exporter": "python",
   "pygments_lexer": "ipython3",
   "version": "3.11.0"
  }
 },
 "nbformat": 4,
 "nbformat_minor": 5
}
