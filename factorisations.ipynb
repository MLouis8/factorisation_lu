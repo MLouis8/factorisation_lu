{
 "cells": [
  {
   "cell_type": "markdown",
   "id": "b9f22cd6",
   "metadata": {},
   "source": [
    "# Algèbre linéaire : Factorisations "
   ]
  },
  {
   "cell_type": "code",
   "execution_count": 34,
   "id": "0beac6ec",
   "metadata": {},
   "outputs": [],
   "source": [
    "import numpy as np\n",
    "from display import display_matrix_lateX, display_matrix_pyplot"
   ]
  },
  {
   "cell_type": "markdown",
   "id": "d116d7bf",
   "metadata": {},
   "source": [
    "##  I. Factorisation LU"
   ]
  },
  {
   "cell_type": "code",
   "execution_count": 110,
   "id": "02bc95d5",
   "metadata": {},
   "outputs": [],
   "source": [
    "def factorisation_lu(A):\n",
    "    L1 = np.diag(np.ones((A.shape[0])))\n",
    "    for id_act, line_act in enumerate(A):\n",
    "        print(\"current:\", line_act)\n",
    "        if A[id_act, id_act] == 0:\n",
    "            return\n",
    "        diag_elem = A[id_act, id_act]\n",
    "        for ind, line in enumerate(A[id_act+1:]):\n",
    "            real_id = ind+id_act+1\n",
    "            temp_elem = A[real_id, id_act]\n",
    "            factor = temp_elem/diag_elem\n",
    "            A[real_id] = A[id_act] - factor * A[real_id]\n",
    "            L1[real_id, id_act] += factor\n",
    "            print(line)\n",
    "        print(\"next\")\n",
    "    return L1"
   ]
  },
  {
   "cell_type": "code",
   "execution_count": 111,
   "id": "14b9feb8",
   "metadata": {},
   "outputs": [],
   "source": [
    "# quelques exemples de matrices pour tester\n",
    "\n",
    "I_3 = np.diag([1, 1, 1])\n",
    "A_1 = np.array([[2,0,2,0],[-2,1,-2,1],[2,-1,5,0],[-2,1,-5,-1]])\n",
    "L_1 = np.array([[1, 0, 0, 0], [-1, 1, 0, 0], [1, -1, 1, 0], [-1, 1, -1, 1]])\n",
    "U_1 = np.array([[2, 0, 2, 0], [0, 1, 0, 1], [0, 0, 3, 1], [0, 0, 0, -1]])"
   ]
  },
  {
   "cell_type": "code",
   "execution_count": 112,
   "id": "bfb87403",
   "metadata": {},
   "outputs": [
    {
     "name": "stdout",
     "output_type": "stream",
     "text": [
      "current: [2 0 2 0]\n",
      "[0 1 0 1]\n",
      "[ 0  1 -3  0]\n",
      "[ 0  1 -3 -1]\n",
      "next\n",
      "current: [0 1 0 1]\n",
      "[0 0 3 1]\n",
      "[0 0 3 2]\n",
      "next\n",
      "current: [0 0 3 1]\n",
      "[ 0  0  0 -1]\n",
      "next\n",
      "current: [ 0  0  0 -1]\n",
      "next\n"
     ]
    },
    {
     "data": {
      "text/plain": [
       "array([[ 1.,  0.,  0.,  0.],\n",
       "       [ 1.,  1.,  0.,  0.],\n",
       "       [-1., -1.,  1.,  0.],\n",
       "       [ 1., -1., -1.,  1.]])"
      ]
     },
     "execution_count": 112,
     "metadata": {},
     "output_type": "execute_result"
    }
   ],
   "source": [
    "factorisation_lu(A_1)"
   ]
  },
  {
   "cell_type": "code",
   "execution_count": null,
   "id": "6e0e1e3b",
   "metadata": {},
   "outputs": [],
   "source": []
  },
  {
   "cell_type": "code",
   "execution_count": null,
   "id": "9526d86e",
   "metadata": {},
   "outputs": [],
   "source": []
  }
 ],
 "metadata": {
  "kernelspec": {
   "display_name": "Python 3 (ipykernel)",
   "language": "python",
   "name": "python3"
  },
  "language_info": {
   "codemirror_mode": {
    "name": "ipython",
    "version": 3
   },
   "file_extension": ".py",
   "mimetype": "text/x-python",
   "name": "python",
   "nbconvert_exporter": "python",
   "pygments_lexer": "ipython3",
   "version": "3.10.9"
  }
 },
 "nbformat": 4,
 "nbformat_minor": 5
}
