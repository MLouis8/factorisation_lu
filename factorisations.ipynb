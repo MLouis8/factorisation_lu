{
 "cells": [
  {
   "cell_type": "markdown",
   "id": "b9f22cd6",
   "metadata": {},
   "source": [
    "# Algèbre linéaire : Factorisations "
   ]
  },
  {
   "cell_type": "code",
   "execution_count": 1,
   "id": "0beac6ec",
   "metadata": {},
   "outputs": [],
   "source": [
    "import numpy as np\n",
    "import matplotlib.pyplot as plt\n",
    "from display import display_matrix"
   ]
  },
  {
   "cell_type": "markdown",
   "id": "d116d7bf",
   "metadata": {},
   "source": [
    "##  I. Factorisation LU"
   ]
  },
  {
   "cell_type": "code",
   "execution_count": null,
   "id": "02bc95d5",
   "metadata": {},
   "outputs": [],
   "source": [
    "def factorisation_lu(A):\n",
    "    \n",
    "    return L, U"
   ]
  }
 ],
 "metadata": {
  "kernelspec": {
   "display_name": "Python 3 (ipykernel)",
   "language": "python",
   "name": "python3"
  },
  "language_info": {
   "codemirror_mode": {
    "name": "ipython",
    "version": 3
   },
   "file_extension": ".py",
   "mimetype": "text/x-python",
   "name": "python",
   "nbconvert_exporter": "python",
   "pygments_lexer": "ipython3",
   "version": "3.11.0"
  }
 },
 "nbformat": 4,
 "nbformat_minor": 5
}
