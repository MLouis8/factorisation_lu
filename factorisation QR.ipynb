{
 "cells": [
  {
   "cell_type": "markdown",
   "id": "caf1b77a",
   "metadata": {},
   "source": [
    "# Algèbre linéaire : Factorisations"
   ]
  },
  {
   "cell_type": "code",
   "execution_count": 1,
   "id": "e722a125",
   "metadata": {},
   "outputs": [],
   "source": [
    "import numpy as np\n",
    "from display import display_matrix_lateX, display_matrix_pyplot"
   ]
  },
  {
   "cell_type": "markdown",
   "id": "ed7198f1",
   "metadata": {},
   "source": [
    "## II. Factorisation QR"
   ]
  },
  {
   "cell_type": "code",
   "execution_count": null,
   "id": "90a3a59c",
   "metadata": {},
   "outputs": [],
   "source": []
  }
 ],
 "metadata": {
  "kernelspec": {
   "display_name": "Python 3 (ipykernel)",
   "language": "python",
   "name": "python3"
  },
  "language_info": {
   "codemirror_mode": {
    "name": "ipython",
    "version": 3
   },
   "file_extension": ".py",
   "mimetype": "text/x-python",
   "name": "python",
   "nbconvert_exporter": "python",
   "pygments_lexer": "ipython3",
   "version": "3.11.0"
  }
 },
 "nbformat": 4,
 "nbformat_minor": 5
}
