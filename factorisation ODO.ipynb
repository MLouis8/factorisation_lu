{
 "cells": [
  {
   "cell_type": "markdown",
   "id": "042701b6",
   "metadata": {},
   "source": [
    "# Algèbre linéaire : Factorisations"
   ]
  },
  {
   "cell_type": "code",
   "execution_count": 1,
   "id": "37143353",
   "metadata": {},
   "outputs": [],
   "source": [
    "import numpy as np\n",
    "from display import display_matrix_lateX, display_matrix_pyplot"
   ]
  },
  {
   "cell_type": "markdown",
   "id": "9764414e",
   "metadata": {},
   "source": [
    "## II. Factorisation ODO"
   ]
  },
  {
   "cell_type": "code",
   "execution_count": null,
   "id": "cd8d9bc7",
   "metadata": {},
   "outputs": [],
   "source": []
  }
 ],
 "metadata": {
  "kernelspec": {
   "display_name": "Python 3 (ipykernel)",
   "language": "python",
   "name": "python3"
  },
  "language_info": {
   "codemirror_mode": {
    "name": "ipython",
    "version": 3
   },
   "file_extension": ".py",
   "mimetype": "text/x-python",
   "name": "python",
   "nbconvert_exporter": "python",
   "pygments_lexer": "ipython3",
   "version": "3.11.0"
  }
 },
 "nbformat": 4,
 "nbformat_minor": 5
}
